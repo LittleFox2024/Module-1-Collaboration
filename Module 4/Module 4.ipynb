{
 "cells": [
  {
   "cell_type": "markdown",
   "metadata": {},
   "source": [
    "## Item 11.2\n",
    "11.1 was created in a seperate .py file to allow this to work."
   ]
  },
  {
   "cell_type": "code",
   "execution_count": 5,
   "metadata": {},
   "outputs": [
    {
     "name": "stdout",
     "output_type": "stream",
     "text": [
      "Open 9-5 daily\n"
     ]
    }
   ],
   "source": [
    "import zoo as menagerie\n",
    "menagerie.hours()"
   ]
  },
  {
   "cell_type": "code",
   "execution_count": 1,
   "metadata": {},
   "outputs": [],
   "source": [
    "# Imports\n",
    "import sqlite3\n",
    "import sqlalchemy as sa\n",
    "from sqlalchemy import text\n",
    "\n",
    "# Here's the SQLite\n",
    "conn = sqlite3.connect('books.db')\n",
    "curs = conn.cursor()\n",
    "curs.execute('''CREATE TABLE books\n",
    "    (title VARCHAR(80) PRIMARY KEY,\n",
    "     author VARCHAR(80),\n",
    "     year INT)''')\n",
    "curs.close()\n",
    "conn.close()\n",
    "\n",
    "# And now the sqlalchemy... this took forever to get it working.\n",
    "# Apparently the option in the book's a little outdated.\n",
    "engine = sa.create_engine('sqlite:///books.db')\n",
    "meta = sa.MetaData()\n",
    "books = sa.Table('books', meta,\n",
    "      sa.Column('title', sa.String, primary_key=True),\n",
    "      sa.Column('author', sa.String),\n",
    "      sa.Column('year', sa.Integer)\n",
    "      )\n",
    "meta.create_all(engine)\n",
    "with engine.connect() as connection:\n",
    "    result = connection.execute(text(\"SELECT * FROM books\"))\n",
    "    for row in result:\n",
    "        print(row)"
   ]
  }
 ],
 "metadata": {
  "kernelspec": {
   "display_name": "base",
   "language": "python",
   "name": "python3"
  },
  "language_info": {
   "codemirror_mode": {
    "name": "ipython",
    "version": 3
   },
   "file_extension": ".py",
   "mimetype": "text/x-python",
   "name": "python",
   "nbconvert_exporter": "python",
   "pygments_lexer": "ipython3",
   "version": "3.12.7"
  }
 },
 "nbformat": 4,
 "nbformat_minor": 2
}
