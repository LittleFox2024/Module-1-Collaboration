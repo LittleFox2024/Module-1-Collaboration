{
 "cells": [
  {
   "cell_type": "markdown",
   "metadata": {},
   "source": [
    "## Item 11.2\n",
    "11.1 was created in a seperate .py file to allow this to work."
   ]
  },
  {
   "cell_type": "code",
   "execution_count": 5,
   "metadata": {},
   "outputs": [
    {
     "name": "stdout",
     "output_type": "stream",
     "text": [
      "Open 9-5 daily\n"
     ]
    }
   ],
   "source": [
    "import zoo as menagerie\n",
    "menagerie.hours()"
   ]
  },
  {
   "cell_type": "code",
   "execution_count": 1,
   "metadata": {},
   "outputs": [
    {
     "ename": "AttributeError",
     "evalue": "'Engine' object has no attribute 'execute'",
     "output_type": "error",
     "traceback": [
      "\u001b[1;31m---------------------------------------------------------------------------\u001b[0m",
      "\u001b[1;31mAttributeError\u001b[0m                            Traceback (most recent call last)",
      "Cell \u001b[1;32mIn[1], line 21\u001b[0m\n\u001b[0;32m     15\u001b[0m zoo \u001b[38;5;241m=\u001b[39m sa\u001b[38;5;241m.\u001b[39mTable(\u001b[38;5;124m'\u001b[39m\u001b[38;5;124mbooks\u001b[39m\u001b[38;5;124m'\u001b[39m, meta,\n\u001b[0;32m     16\u001b[0m       sa\u001b[38;5;241m.\u001b[39mColumn(\u001b[38;5;124m'\u001b[39m\u001b[38;5;124mtitle\u001b[39m\u001b[38;5;124m'\u001b[39m, sa\u001b[38;5;241m.\u001b[39mString, primary_key\u001b[38;5;241m=\u001b[39m\u001b[38;5;28;01mTrue\u001b[39;00m),\n\u001b[0;32m     17\u001b[0m       sa\u001b[38;5;241m.\u001b[39mColumn(\u001b[38;5;124m'\u001b[39m\u001b[38;5;124mauthor\u001b[39m\u001b[38;5;124m'\u001b[39m, sa\u001b[38;5;241m.\u001b[39mString),\n\u001b[0;32m     18\u001b[0m       sa\u001b[38;5;241m.\u001b[39mColumn(\u001b[38;5;124m'\u001b[39m\u001b[38;5;124myear\u001b[39m\u001b[38;5;124m'\u001b[39m, sa\u001b[38;5;241m.\u001b[39mInteger)\n\u001b[0;32m     19\u001b[0m       )\n\u001b[0;32m     20\u001b[0m meta\u001b[38;5;241m.\u001b[39mcreate_all(nyaa)\n\u001b[1;32m---> 21\u001b[0m result \u001b[38;5;241m=\u001b[39m nyaa\u001b[38;5;241m.\u001b[39mexecute(books\u001b[38;5;241m.\u001b[39mselect())\n\u001b[0;32m     22\u001b[0m rows \u001b[38;5;241m=\u001b[39m result\u001b[38;5;241m.\u001b[39mfetchall()\n\u001b[0;32m     23\u001b[0m \u001b[38;5;28mprint\u001b[39m(rows)\n",
      "\u001b[1;31mAttributeError\u001b[0m: 'Engine' object has no attribute 'execute'"
     ]
    }
   ],
   "source": [
    "import sqlite3\n",
    "import sqlalchemy as sa\n",
    "\n",
    "conn = sqlite3.connect('books.db')\n",
    "curs = conn.cursor()\n",
    "curs.execute('''CREATE TABLE books\n",
    "    (title VARCHAR(80) PRIMARY KEY,\n",
    "     author VARCHAR(80),\n",
    "     year INT)''')\n",
    "curs.close()\n",
    "conn.close()\n",
    "\n",
    "conn = sa.create_engine('sqlite:///books.db')\n",
    "meta = sa.MetaData()\n",
    "zoo = sa.Table('books', meta,\n",
    "      sa.Column('title', sa.String, primary_key=True),\n",
    "      sa.Column('author', sa.String),\n",
    "      sa.Column('year', sa.Integer)\n",
    "      )\n",
    "meta.create_all(conn)\n",
    "result = conn.execute(books.select())\n",
    "rows = result.fetchall()\n",
    "print(rows)"
   ]
  }
 ],
 "metadata": {
  "kernelspec": {
   "display_name": "base",
   "language": "python",
   "name": "python3"
  },
  "language_info": {
   "codemirror_mode": {
    "name": "ipython",
    "version": 3
   },
   "file_extension": ".py",
   "mimetype": "text/x-python",
   "name": "python",
   "nbconvert_exporter": "python",
   "pygments_lexer": "ipython3",
   "version": "3.12.7"
  }
 },
 "nbformat": 4,
 "nbformat_minor": 2
}
