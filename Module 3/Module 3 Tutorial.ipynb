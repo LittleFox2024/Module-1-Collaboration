{
 "cells": [
  {
   "cell_type": "markdown",
   "metadata": {},
   "source": [
    "## Array Sort"
   ]
  },
  {
   "cell_type": "code",
   "execution_count": null,
   "metadata": {},
   "outputs": [],
   "source": [
    "class Solution:\n",
    "    # Function to sort an array of 0s, 1s, and 2s\n",
    "    def sort012(self, arr):\n",
    "        # code here:\n",
    "        for x in range(0, len(arr)):\n",
    "            for i in range(len(arr)):\n",
    "                if (i+1) < len(arr):\n",
    "                    if arr[i] > arr[(i + 1)]:\n",
    "                        tmp = arr[i]\n",
    "                        arr[i] = arr[(i+1)]\n",
    "                        arr[(i+1)] = tmp\n",
    "                else:\n",
    "                    if arr[i] < arr[(i-1)]:\n",
    "                        tmp = arr[i]\n",
    "                        arr[i] = arr[(i-1)]\n",
    "                        arr[(i-1)] = tmp"
   ]
  },
  {
   "cell_type": "markdown",
   "metadata": {},
   "source": [
    "## Binary Search"
   ]
  },
  {
   "cell_type": "code",
   "execution_count": 1,
   "metadata": {},
   "outputs": [],
   "source": [
    "class Solution:\n",
    "    def binarysearch(self, arr, k):\n",
    "        # Code Here\n",
    "        for i in range(0, len(arr)):\n",
    "            if k == arr[i]:\n",
    "                return i\n",
    "                break\n",
    "            if k != arr[i] and i == len(arr) -1:\n",
    "                return -1"
   ]
  }
 ],
 "metadata": {
  "kernelspec": {
   "display_name": "base",
   "language": "python",
   "name": "python3"
  },
  "language_info": {
   "codemirror_mode": {
    "name": "ipython",
    "version": 3
   },
   "file_extension": ".py",
   "mimetype": "text/x-python",
   "name": "python",
   "nbconvert_exporter": "python",
   "pygments_lexer": "ipython3",
   "version": "3.12.7"
  }
 },
 "nbformat": 4,
 "nbformat_minor": 2
}
