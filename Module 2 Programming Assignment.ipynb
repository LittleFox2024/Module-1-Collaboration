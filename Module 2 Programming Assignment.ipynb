{
 "cells": [
  {
   "cell_type": "markdown",
   "id": "7dc314d4-b657-4624-8df5-ddd30fa4db9c",
   "metadata": {},
   "source": [
    "# Module 2 Programming Assignment"
   ]
  },
  {
   "cell_type": "markdown",
   "id": "2ba46c1e-d0fc-4b23-a167-aa147c5f1e81",
   "metadata": {},
   "source": [
    "## Question 4.1"
   ]
  },
  {
   "cell_type": "code",
   "execution_count": 1,
   "id": "8d6171a4-2fd4-4e16-8cbe-d9014691d837",
   "metadata": {},
   "outputs": [
    {
     "name": "stdout",
     "output_type": "stream",
     "text": [
      "Too high.\n"
     ]
    }
   ],
   "source": [
    "secret = 3\n",
    "guess = 5\n",
    "if guess < secret:\n",
    "\tprint(\"Too low.\")\n",
    "elif guess > secret:\n",
    "\tprint(\"Too high.\")\n",
    "else:\n",
    "\tprint(\"Just right.\")"
   ]
  },
  {
   "cell_type": "markdown",
   "id": "a3a3bb27-fde1-46d3-9def-49d5f004032d",
   "metadata": {},
   "source": [
    "## Question 4.2"
   ]
  },
  {
   "cell_type": "code",
   "execution_count": 10,
   "id": "c903ec58-0f2c-41f5-9850-87cf485b308f",
   "metadata": {},
   "outputs": [
    {
     "name": "stdout",
     "output_type": "stream",
     "text": [
      "Looking for small but not green.\n",
      "\n",
      "\n",
      "Cherry fits!\n",
      "Pea does not fit.\n",
      "Watermelon does not fit.\n",
      "Pumpkin does not fit.\n"
     ]
    }
   ],
   "source": [
    "# Items\n",
    "cherry = {'small', 'red'}\n",
    "pea = {'small', 'green'}\n",
    "watermelon = {'large', 'green'} #I'm going by outside...\n",
    "pumpkin = {'large', 'orange'}\n",
    "\n",
    "# Let the user know what we're looking for...\n",
    "print(\"Looking for small but not green.\\n\\n\")\n",
    "\n",
    "# Statements...\n",
    "if 'small' in cherry:\n",
    "\tif 'green' in cherry:\n",
    "\t\tprint(\"Cherry does not fit.\")\n",
    "\telse:\n",
    "\t\tprint(\"Cherry fits!\")\n",
    "else: print(\"Cherry does not fit.\")\n",
    "           \n",
    "if 'small' in pea:\n",
    "\tif 'green' in pea:\n",
    "\t\tprint(\"Pea does not fit.\")\n",
    "\telse:\n",
    "\t\tprint(\"Pea fits!\")\n",
    "else: print(\"Pea does not fit.\")\n",
    "           \n",
    "if 'small' in watermelon:\n",
    "\tif 'green' in watermelon:\n",
    "\t\tprint(\"Watermelon does not fit.\")\n",
    "\telse:\n",
    "\t\tprint(\"Watermelon fits!\")\n",
    "else: print(\"Watermelon does not fit.\")\n",
    "           \n",
    "if 'small' in pumpkin:\n",
    "\tif 'green' in pumpkin:\n",
    "\t\tprint(\"Pumpkin does not fit.\")\n",
    "\telse:\n",
    "\t\tprint(\"Pumpkin fits!\")\n",
    "else: print(\"Pumpkin does not fit.\")"
   ]
  },
  {
   "cell_type": "markdown",
   "id": "300b34e4-1423-42b1-9c92-04394faba7f5",
   "metadata": {},
   "source": [
    "## Question 6.1"
   ]
  },
  {
   "cell_type": "code",
   "execution_count": 11,
   "id": "6bb59556-ef77-44d4-9313-f5e6e51db379",
   "metadata": {},
   "outputs": [
    {
     "name": "stdout",
     "output_type": "stream",
     "text": [
      "3\n",
      "2\n",
      "1\n",
      "0\n"
     ]
    }
   ],
   "source": [
    "values = [3, 2, 1, 0]\n",
    "for x in values:\n",
    "\tprint(x)"
   ]
  },
  {
   "cell_type": "markdown",
   "id": "d5b4d019-8b1c-4ca7-bb95-e3e744add345",
   "metadata": {},
   "source": [
    "## Question 6.2"
   ]
  },
  {
   "cell_type": "code",
   "execution_count": 12,
   "id": "560d046c-fd2c-41d6-bbec-5019761a5268",
   "metadata": {},
   "outputs": [
    {
     "name": "stdout",
     "output_type": "stream",
     "text": [
      "Too low.\n",
      "Too low.\n",
      "Too low.\n",
      "Too low.\n",
      "Too low.\n",
      "Too low.\n",
      "Found it!\n",
      "Oops!\n"
     ]
    }
   ],
   "source": [
    "guess_me = 7\n",
    "number = 1\n",
    "while number:\n",
    "\tif number < guess_me:\n",
    "\t\tprint(\"Too low.\")\n",
    "\telif number == guess_me:\n",
    "\t\tprint(\"Found it!\")\n",
    "\telif number > guess_me:\n",
    "\t\tprint(\"Oops!\")\n",
    "\t\tbreak\n",
    "\tnumber += 1 "
   ]
  },
  {
   "cell_type": "markdown",
   "id": "c24e1bb5-2d55-420b-8eba-9ee6c4e171f2",
   "metadata": {},
   "source": [
    "## Question 6.3"
   ]
  },
  {
   "cell_type": "code",
   "execution_count": 13,
   "id": "34540757-33e5-4b99-95c4-3800064c8993",
   "metadata": {},
   "outputs": [
    {
     "name": "stdout",
     "output_type": "stream",
     "text": [
      "Too low.\n",
      "Too low.\n",
      "Too low.\n",
      "Too low.\n",
      "Too low.\n",
      "Found it!\n",
      "Oops!\n"
     ]
    }
   ],
   "source": [
    "guess_me = 5\n",
    "for number in range(10):\n",
    "\tif number < guess_me:\n",
    "\t\tprint(\"Too low.\")\n",
    "\telif number == guess_me:\n",
    "\t\tprint(\"Found it!\")\n",
    "\telif number > guess_me:\n",
    "\t\tprint(\"Oops!\")\n",
    "\t\tbreak\n",
    "\telse:\n",
    "\t\tprint(\"Unexpected error\")\n",
    "\t\tbreak"
   ]
  }
 ],
 "metadata": {
  "kernelspec": {
   "display_name": "Python 3 (ipykernel)",
   "language": "python",
   "name": "python3"
  },
  "language_info": {
   "codemirror_mode": {
    "name": "ipython",
    "version": 3
   },
   "file_extension": ".py",
   "mimetype": "text/x-python",
   "name": "python",
   "nbconvert_exporter": "python",
   "pygments_lexer": "ipython3",
   "version": "3.12.7"
  }
 },
 "nbformat": 4,
 "nbformat_minor": 5
}
